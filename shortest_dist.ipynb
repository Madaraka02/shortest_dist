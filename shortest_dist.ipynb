{
 "cells": [
  {
   "cell_type": "code",
   "execution_count": 9,
   "id": "590b90b3",
   "metadata": {},
   "outputs": [],
   "source": [
    "import math "
   ]
  },
  {
   "cell_type": "code",
   "execution_count": 16,
   "id": "19224653",
   "metadata": {},
   "outputs": [],
   "source": [
    "# A < 90 degrees\n",
    "# B < 90 degrees\n",
    "# A + B == 90 degrees\n",
    "# C = 90 degrees\n",
    "# c is the hypotenuse hence its opposite = angle C - the distance we're finding\n",
    "# (a/sinA)=(b/sinB)=(c/sinC)\n",
    "# (c/sinC) = (c/sin90) = 1\n",
    "# hence to get c which is the distance A to B we use (a/sinA) 0r (b/sinB)\n",
    "# we already have one angle=90 and we will simulate angle A so to get angle B : B = 180-(90+B)\n",
    "# we will simulate an angle greater than 0 but less than 90 to get angle A\n",
    "# we will need a distance L so as to calculate the shortest distance c from A to B"
   ]
  },
  {
   "cell_type": "code",
   "execution_count": 180,
   "id": "e6a4e900",
   "metadata": {},
   "outputs": [],
   "source": [
    "# assume the first angle was 60\n",
    "y = 30\n",
    "B=math.radians(y)\n",
    "\n",
    "v = math.sin(B) \n",
    "# we assumed the length of the crosswalk is fixed to 4meters\n",
    "crosswalk =4\n",
    "c = crosswalk//v \n",
    "l = sqrt(c**2 - crosswalk**2)\n"
   ]
  },
  {
   "cell_type": "code",
   "execution_count": 181,
   "id": "819a9d75",
   "metadata": {},
   "outputs": [
    {
     "data": {
      "text/plain": [
       "8.0"
      ]
     },
     "execution_count": 181,
     "metadata": {},
     "output_type": "execute_result"
    }
   ],
   "source": [
    "c"
   ]
  },
  {
   "cell_type": "code",
   "execution_count": 182,
   "id": "07d6b1be",
   "metadata": {},
   "outputs": [
    {
     "data": {
      "text/plain": [
       "6.93"
      ]
     },
     "execution_count": 182,
     "metadata": {},
     "output_type": "execute_result"
    }
   ],
   "source": [
    "l=(round(l, 2))\n",
    "l"
   ]
  },
  {
   "cell_type": "code",
   "execution_count": 183,
   "id": "8fa39e07",
   "metadata": {},
   "outputs": [
    {
     "data": {
      "text/plain": [
       "10.93"
      ]
     },
     "execution_count": 183,
     "metadata": {},
     "output_type": "execute_result"
    }
   ],
   "source": [
    "distance_to_cover = crosswalk+l\n",
    "distance_to_cover"
   ]
  },
  {
   "cell_type": "code",
   "execution_count": 184,
   "id": "7056f328",
   "metadata": {},
   "outputs": [
    {
     "data": {
      "text/plain": [
       "2.93"
      ]
     },
     "execution_count": 184,
     "metadata": {},
     "output_type": "execute_result"
    }
   ],
   "source": [
    "distance_saved = round((distance_to_cover-c),2)\n",
    "distance_saved"
   ]
  },
  {
   "cell_type": "code",
   "execution_count": 211,
   "id": "b7d5a454",
   "metadata": {},
   "outputs": [],
   "source": [
    "import math \n",
    "ab =[] #distrances A to B at different angles\n",
    "L=[] #distrances of L at different angles\n",
    "angles=[]\n",
    "# code to simulate random degrees for angle A and calculate angle B\n",
    "for x in range(1, 60, 5):\n",
    "    A=math.radians(x) #convert x to radians\n",
    "    y = 90 -(x)\n",
    "    angles.append(y)\n",
    "    B=math.radians(y)\n",
    "#     print(f'angle A: {A} :angle B: {B}')\n",
    "    \n",
    "#     CALCULATE DISTANCE A to B\n",
    "    v = math.sin(B) #find sine of A\n",
    "# assuming that the length of the crosswalk is the fixed width of the road\n",
    "    crosswalk =4\n",
    "    c = crosswalk/v \n",
    "    l = sqrt(c**2 - crosswalk**2)\n",
    "    ab.append(round(c, 2))\n",
    "    L.append(round(l, 2))\n",
    "\n",
    "\n",
    "\n"
   ]
  },
  {
   "cell_type": "code",
   "execution_count": 212,
   "id": "c8a49791",
   "metadata": {},
   "outputs": [
    {
     "data": {
      "text/plain": [
       "[4.0, 4.02, 4.07, 4.16, 4.28, 4.45, 4.67, 4.94, 5.3, 5.76, 6.36, 7.15]"
      ]
     },
     "execution_count": 212,
     "metadata": {},
     "output_type": "execute_result"
    }
   ],
   "source": [
    "# DISTANCES OF A to B at different angles\n",
    "ab"
   ]
  },
  {
   "cell_type": "code",
   "execution_count": 213,
   "id": "c26873ae",
   "metadata": {},
   "outputs": [
    {
     "data": {
      "text/plain": [
       "[0.07, 0.42, 0.78, 1.15, 1.54, 1.95, 2.4, 2.91, 3.48, 4.14, 4.94, 5.93]"
      ]
     },
     "execution_count": 213,
     "metadata": {},
     "output_type": "execute_result"
    }
   ],
   "source": [
    "# lengths of L at different simulated angles\n",
    "L"
   ]
  },
  {
   "cell_type": "code",
   "execution_count": 214,
   "id": "9f1f9d1a",
   "metadata": {},
   "outputs": [],
   "source": [
    "dist_aded =[]\n",
    "for i in L:\n",
    "    a=5.93-i\n",
    "    dist_aded.append(round(a, 2))"
   ]
  },
  {
   "cell_type": "code",
   "execution_count": 215,
   "id": "a156b36d",
   "metadata": {},
   "outputs": [
    {
     "data": {
      "text/plain": [
       "[5.86, 5.51, 5.15, 4.78, 4.39, 3.98, 3.53, 3.02, 2.45, 1.79, 0.99, 0.0]"
      ]
     },
     "execution_count": 215,
     "metadata": {},
     "output_type": "execute_result"
    }
   ],
   "source": [
    "# virations of L at different angles\n",
    "dist_aded"
   ]
  },
  {
   "cell_type": "code",
   "execution_count": 216,
   "id": "cb7332fa",
   "metadata": {},
   "outputs": [],
   "source": [
    "# additional distance travelled\n",
    "additional_distance= list()\n",
    "for i, t in zip(ab, dist_aded):\n",
    "    additional_distance.append(round(i+t, 2))\n"
   ]
  },
  {
   "cell_type": "code",
   "execution_count": 217,
   "id": "90b4cee5",
   "metadata": {},
   "outputs": [
    {
     "data": {
      "text/plain": [
       "[9.86, 9.53, 9.22, 8.94, 8.67, 8.43, 8.2, 7.96, 7.75, 7.55, 7.35, 7.15]"
      ]
     },
     "execution_count": 217,
     "metadata": {},
     "output_type": "execute_result"
    }
   ],
   "source": [
    "additional_distance"
   ]
  },
  {
   "cell_type": "code",
   "execution_count": 237,
   "id": "eb370af2",
   "metadata": {},
   "outputs": [],
   "source": [
    "# distance L where distance saved does not exceed the distance traveled\n",
    "distance_L= []\n",
    "for i in L:\n",
    "    distance_L.append(round(distance_saved-i, 2))\n",
    "    new_distance = list(filter(lambda x: x >0, distance_L))"
   ]
  },
  {
   "cell_type": "code",
   "execution_count": 238,
   "id": "aa7ca254",
   "metadata": {},
   "outputs": [],
   "source": [
    "import matplotlib.pyplot as plt"
   ]
  },
  {
   "cell_type": "code",
   "execution_count": 239,
   "id": "52681baf",
   "metadata": {},
   "outputs": [
    {
     "data": {
      "text/plain": [
       "[2.86, 2.51, 2.15, 1.78, 1.39, 0.98, 0.53, 0.02, -0.55, -1.21, -2.01, -3.0]"
      ]
     },
     "execution_count": 239,
     "metadata": {},
     "output_type": "execute_result"
    }
   ],
   "source": [
    "distance_L"
   ]
  },
  {
   "cell_type": "code",
   "execution_count": 240,
   "id": "3aeca0ba",
   "metadata": {},
   "outputs": [
    {
     "data": {
      "text/plain": [
       "[2.86, 2.51, 2.15, 1.78, 1.39, 0.98, 0.53, 0.02]"
      ]
     },
     "execution_count": 240,
     "metadata": {},
     "output_type": "execute_result"
    }
   ],
   "source": [
    "new_distance"
   ]
  },
  {
   "cell_type": "code",
   "execution_count": 229,
   "id": "556a6bc9",
   "metadata": {},
   "outputs": [
    {
     "data": {
      "image/png": "[encoded data removed]",
      "text/plain": [
       "<Figure size 432x288 with 1 Axes>"
      ]
     },
     "metadata": {
      "needs_background": "light"
     },
     "output_type": "display_data"
    }
   ],
   "source": [
    "plt.plot(L,angles)\n",
    "plt.xlabel('distance L')\n",
    "plt.ylabel('angles')\n",
    "\n",
    "plt.show()"
   ]
  },
  {
   "cell_type": "code",
   "execution_count": 243,
   "id": "994f20cf",
   "metadata": {},
   "outputs": [
    {
     "data": {
      "text/plain": [
       "[<matplotlib.lines.Line2D at 0x1ef1809f190>]"
      ]
     },
     "execution_count": 243,
     "metadata": {},
     "output_type": "execute_result"
    },
    {
     "data": {
      "image/png": "[encoded data removed]",
      "text/plain": [
       "<Figure size 432x288 with 1 Axes>"
      ]
     },
     "metadata": {
      "needs_background": "light"
     },
     "output_type": "display_data"
    }
   ],
   "source": [
    "plt.plot(new_distance)\n"
   ]
  },
  {
   "cell_type": "code",
   "execution_count": null,
   "id": "b4ba60eb",
   "metadata": {},
   "outputs": [],
   "source": []
  }
 ],
 "metadata": {
  "kernelspec": {
   "display_name": "Python 3",
   "language": "python",
   "name": "python3"
  },
  "language_info": {
   "codemirror_mode": {
    "name": "ipython",
    "version": 3
   },
   "file_extension": ".py",
   "mimetype": "text/x-python",
   "name": "python",
   "nbconvert_exporter": "python",
   "pygments_lexer": "ipython3",
   "version": "3.8.8"
  }
 },
 "nbformat": 4,
 "nbformat_minor": 5
}
